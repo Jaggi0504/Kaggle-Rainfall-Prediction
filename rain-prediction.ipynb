{
 "cells": [
  {
   "cell_type": "code",
   "execution_count": 43,
   "metadata": {
    "_cell_guid": "b1076dfc-b9ad-4769-8c92-a6c4dae69d19",
    "_uuid": "8f2839f25d086af736a60e9eeb907d3b93b6e0e5",
    "execution": {
     "iopub.execute_input": "2025-03-28T08:18:12.025172Z",
     "iopub.status.busy": "2025-03-28T08:18:12.024770Z",
     "iopub.status.idle": "2025-03-28T08:18:12.067484Z",
     "shell.execute_reply": "2025-03-28T08:18:12.066272Z",
     "shell.execute_reply.started": "2025-03-28T08:18:12.025142Z"
    }
   },
   "outputs": [],
   "source": [
    "# This Python 3 environment comes with many helpful analytics libraries installed\n",
    "# It is defined by the kaggle/python Docker image: https://github.com/kaggle/docker-python\n",
    "# For example, here's several helpful packages to load\n",
    "\n",
    "import numpy as np # linear algebra\n",
    "import pandas as pd # data processing, CSV file I/O (e.g. pd.read_csv)\n",
    "import warnings\n",
    "warnings.filterwarnings(\"ignore\")\n",
    "import matplotlib.pyplot as plt\n",
    "from sklearn.feature_selection import RFE\n",
    "import tensorflow as tf\n",
    "from tensorflow import keras\n",
    "from tensorflow.keras.models import Sequential\n",
    "from tensorflow.keras.layers import Dense, Dropout\n",
    "from tensorflow.keras.optimizers import Adam\n",
    "import xgboost as xgb\n",
    "import seaborn as sns\n",
    "from sklearn.linear_model import LogisticRegression\n",
    "from sklearn.ensemble import RandomForestClassifier\n",
    "from sklearn.metrics import classification_report, confusion_matrix\n",
    "from sklearn.model_selection import train_test_split\n",
    "from sklearn.preprocessing import MinMaxScaler\n",
    "%matplotlib inline\n",
    "\n",
    "# Input data files are available in the read-only \"../input/\" directory\n",
    "# For example, running this (by clicking run or pressing Shift+Enter) will list all files under the input directory\n",
    "\n",
    "import os\n",
    "for dirname, _, filenames in os.walk('/kaggle/input'):\n",
    "    for filename in filenames:\n",
    "        print(os.path.join(dirname, filename))\n",
    "\n",
    "# You can write up to 20GB to the current directory (/kaggle/working/) that gets preserved as output when you create a version using \"Save & Run All\" \n",
    "# You can also write temporary files to /kaggle/temp/, but they won't be saved outside of the current session"
   ]
  },
  {
   "cell_type": "code",
   "execution_count": 2,
   "metadata": {
    "execution": {
     "iopub.execute_input": "2025-03-28T08:18:12.069303Z",
     "iopub.status.busy": "2025-03-28T08:18:12.068943Z",
     "iopub.status.idle": "2025-03-28T08:18:12.094166Z",
     "shell.execute_reply": "2025-03-28T08:18:12.092689Z",
     "shell.execute_reply.started": "2025-03-28T08:18:12.069272Z"
    }
   },
   "outputs": [],
   "source": [
    "train_df=pd.read_csv('./playground-series-s5e3/train.csv')\n",
    "test_df=pd.read_csv('./playground-series-s5e3/test.csv')"
   ]
  },
  {
   "cell_type": "code",
   "execution_count": 3,
   "metadata": {
    "execution": {
     "iopub.execute_input": "2025-03-28T08:18:12.096030Z",
     "iopub.status.busy": "2025-03-28T08:18:12.095685Z",
     "iopub.status.idle": "2025-03-28T08:18:12.104056Z",
     "shell.execute_reply": "2025-03-28T08:18:12.102687Z",
     "shell.execute_reply.started": "2025-03-28T08:18:12.096001Z"
    }
   },
   "outputs": [
    {
     "name": "stdout",
     "output_type": "stream",
     "text": [
      "Train df shape: (2190, 13)\n",
      "Test df shape: (730, 12)\n"
     ]
    }
   ],
   "source": [
    "print(\"Train df shape:\", train_df.shape)\n",
    "print(\"Test df shape:\", test_df.shape)"
   ]
  },
  {
   "cell_type": "code",
   "execution_count": 4,
   "metadata": {
    "execution": {
     "iopub.execute_input": "2025-03-28T08:18:12.106250Z",
     "iopub.status.busy": "2025-03-28T08:18:12.105926Z",
     "iopub.status.idle": "2025-03-28T08:18:12.147661Z",
     "shell.execute_reply": "2025-03-28T08:18:12.145954Z",
     "shell.execute_reply.started": "2025-03-28T08:18:12.106221Z"
    }
   },
   "outputs": [
    {
     "data": {
      "text/html": [
       "<div>\n",
       "<style scoped>\n",
       "    .dataframe tbody tr th:only-of-type {\n",
       "        vertical-align: middle;\n",
       "    }\n",
       "\n",
       "    .dataframe tbody tr th {\n",
       "        vertical-align: top;\n",
       "    }\n",
       "\n",
       "    .dataframe thead th {\n",
       "        text-align: right;\n",
       "    }\n",
       "</style>\n",
       "<table border=\"1\" class=\"dataframe\">\n",
       "  <thead>\n",
       "    <tr style=\"text-align: right;\">\n",
       "      <th></th>\n",
       "      <th>id</th>\n",
       "      <th>day</th>\n",
       "      <th>pressure</th>\n",
       "      <th>maxtemp</th>\n",
       "      <th>temparature</th>\n",
       "      <th>mintemp</th>\n",
       "      <th>dewpoint</th>\n",
       "      <th>humidity</th>\n",
       "      <th>cloud</th>\n",
       "      <th>sunshine</th>\n",
       "      <th>winddirection</th>\n",
       "      <th>windspeed</th>\n",
       "      <th>rainfall</th>\n",
       "    </tr>\n",
       "  </thead>\n",
       "  <tbody>\n",
       "    <tr>\n",
       "      <th>0</th>\n",
       "      <td>0</td>\n",
       "      <td>1</td>\n",
       "      <td>1017.4</td>\n",
       "      <td>21.2</td>\n",
       "      <td>20.6</td>\n",
       "      <td>19.9</td>\n",
       "      <td>19.4</td>\n",
       "      <td>87.0</td>\n",
       "      <td>88.0</td>\n",
       "      <td>1.1</td>\n",
       "      <td>60.0</td>\n",
       "      <td>17.2</td>\n",
       "      <td>1</td>\n",
       "    </tr>\n",
       "    <tr>\n",
       "      <th>1</th>\n",
       "      <td>1</td>\n",
       "      <td>2</td>\n",
       "      <td>1019.5</td>\n",
       "      <td>16.2</td>\n",
       "      <td>16.9</td>\n",
       "      <td>15.8</td>\n",
       "      <td>15.4</td>\n",
       "      <td>95.0</td>\n",
       "      <td>91.0</td>\n",
       "      <td>0.0</td>\n",
       "      <td>50.0</td>\n",
       "      <td>21.9</td>\n",
       "      <td>1</td>\n",
       "    </tr>\n",
       "    <tr>\n",
       "      <th>2</th>\n",
       "      <td>2</td>\n",
       "      <td>3</td>\n",
       "      <td>1024.1</td>\n",
       "      <td>19.4</td>\n",
       "      <td>16.1</td>\n",
       "      <td>14.6</td>\n",
       "      <td>9.3</td>\n",
       "      <td>75.0</td>\n",
       "      <td>47.0</td>\n",
       "      <td>8.3</td>\n",
       "      <td>70.0</td>\n",
       "      <td>18.1</td>\n",
       "      <td>1</td>\n",
       "    </tr>\n",
       "    <tr>\n",
       "      <th>3</th>\n",
       "      <td>3</td>\n",
       "      <td>4</td>\n",
       "      <td>1013.4</td>\n",
       "      <td>18.1</td>\n",
       "      <td>17.8</td>\n",
       "      <td>16.9</td>\n",
       "      <td>16.8</td>\n",
       "      <td>95.0</td>\n",
       "      <td>95.0</td>\n",
       "      <td>0.0</td>\n",
       "      <td>60.0</td>\n",
       "      <td>35.6</td>\n",
       "      <td>1</td>\n",
       "    </tr>\n",
       "    <tr>\n",
       "      <th>4</th>\n",
       "      <td>4</td>\n",
       "      <td>5</td>\n",
       "      <td>1021.8</td>\n",
       "      <td>21.3</td>\n",
       "      <td>18.4</td>\n",
       "      <td>15.2</td>\n",
       "      <td>9.6</td>\n",
       "      <td>52.0</td>\n",
       "      <td>45.0</td>\n",
       "      <td>3.6</td>\n",
       "      <td>40.0</td>\n",
       "      <td>24.8</td>\n",
       "      <td>0</td>\n",
       "    </tr>\n",
       "  </tbody>\n",
       "</table>\n",
       "</div>"
      ],
      "text/plain": [
       "   id  day  pressure  maxtemp  temparature  mintemp  dewpoint  humidity  \\\n",
       "0   0    1    1017.4     21.2         20.6     19.9      19.4      87.0   \n",
       "1   1    2    1019.5     16.2         16.9     15.8      15.4      95.0   \n",
       "2   2    3    1024.1     19.4         16.1     14.6       9.3      75.0   \n",
       "3   3    4    1013.4     18.1         17.8     16.9      16.8      95.0   \n",
       "4   4    5    1021.8     21.3         18.4     15.2       9.6      52.0   \n",
       "\n",
       "   cloud  sunshine  winddirection  windspeed  rainfall  \n",
       "0   88.0       1.1           60.0       17.2         1  \n",
       "1   91.0       0.0           50.0       21.9         1  \n",
       "2   47.0       8.3           70.0       18.1         1  \n",
       "3   95.0       0.0           60.0       35.6         1  \n",
       "4   45.0       3.6           40.0       24.8         0  "
      ]
     },
     "execution_count": 4,
     "metadata": {},
     "output_type": "execute_result"
    }
   ],
   "source": [
    "train_df.head()"
   ]
  },
  {
   "cell_type": "code",
   "execution_count": 5,
   "metadata": {
    "execution": {
     "iopub.execute_input": "2025-03-28T08:18:12.149030Z",
     "iopub.status.busy": "2025-03-28T08:18:12.148692Z",
     "iopub.status.idle": "2025-03-28T08:18:12.159623Z",
     "shell.execute_reply": "2025-03-28T08:18:12.157789Z",
     "shell.execute_reply.started": "2025-03-28T08:18:12.149000Z"
    }
   },
   "outputs": [
    {
     "data": {
      "text/plain": [
       "id               0\n",
       "day              0\n",
       "pressure         0\n",
       "maxtemp          0\n",
       "temparature      0\n",
       "mintemp          0\n",
       "dewpoint         0\n",
       "humidity         0\n",
       "cloud            0\n",
       "sunshine         0\n",
       "winddirection    0\n",
       "windspeed        0\n",
       "rainfall         0\n",
       "dtype: int64"
      ]
     },
     "execution_count": 5,
     "metadata": {},
     "output_type": "execute_result"
    }
   ],
   "source": [
    "train_df.isna().sum()"
   ]
  },
  {
   "cell_type": "markdown",
   "metadata": {},
   "source": [
    "### Great! We do not have any missing values in the training dataset"
   ]
  },
  {
   "cell_type": "code",
   "execution_count": 6,
   "metadata": {
    "execution": {
     "iopub.execute_input": "2025-03-28T08:18:12.161127Z",
     "iopub.status.busy": "2025-03-28T08:18:12.160672Z",
     "iopub.status.idle": "2025-03-28T08:18:12.186836Z",
     "shell.execute_reply": "2025-03-28T08:18:12.185718Z",
     "shell.execute_reply.started": "2025-03-28T08:18:12.161082Z"
    }
   },
   "outputs": [
    {
     "data": {
      "text/html": [
       "<div>\n",
       "<style scoped>\n",
       "    .dataframe tbody tr th:only-of-type {\n",
       "        vertical-align: middle;\n",
       "    }\n",
       "\n",
       "    .dataframe tbody tr th {\n",
       "        vertical-align: top;\n",
       "    }\n",
       "\n",
       "    .dataframe thead th {\n",
       "        text-align: right;\n",
       "    }\n",
       "</style>\n",
       "<table border=\"1\" class=\"dataframe\">\n",
       "  <thead>\n",
       "    <tr style=\"text-align: right;\">\n",
       "      <th></th>\n",
       "      <th>id</th>\n",
       "      <th>day</th>\n",
       "      <th>pressure</th>\n",
       "      <th>maxtemp</th>\n",
       "      <th>temparature</th>\n",
       "      <th>mintemp</th>\n",
       "      <th>dewpoint</th>\n",
       "      <th>humidity</th>\n",
       "      <th>cloud</th>\n",
       "      <th>sunshine</th>\n",
       "      <th>winddirection</th>\n",
       "      <th>windspeed</th>\n",
       "    </tr>\n",
       "  </thead>\n",
       "  <tbody>\n",
       "    <tr>\n",
       "      <th>0</th>\n",
       "      <td>2190</td>\n",
       "      <td>1</td>\n",
       "      <td>1019.5</td>\n",
       "      <td>17.5</td>\n",
       "      <td>15.8</td>\n",
       "      <td>12.7</td>\n",
       "      <td>14.9</td>\n",
       "      <td>96.0</td>\n",
       "      <td>99.0</td>\n",
       "      <td>0.0</td>\n",
       "      <td>50.0</td>\n",
       "      <td>24.3</td>\n",
       "    </tr>\n",
       "    <tr>\n",
       "      <th>1</th>\n",
       "      <td>2191</td>\n",
       "      <td>2</td>\n",
       "      <td>1016.5</td>\n",
       "      <td>17.5</td>\n",
       "      <td>16.5</td>\n",
       "      <td>15.8</td>\n",
       "      <td>15.1</td>\n",
       "      <td>97.0</td>\n",
       "      <td>99.0</td>\n",
       "      <td>0.0</td>\n",
       "      <td>50.0</td>\n",
       "      <td>35.3</td>\n",
       "    </tr>\n",
       "    <tr>\n",
       "      <th>2</th>\n",
       "      <td>2192</td>\n",
       "      <td>3</td>\n",
       "      <td>1023.9</td>\n",
       "      <td>11.2</td>\n",
       "      <td>10.4</td>\n",
       "      <td>9.4</td>\n",
       "      <td>8.9</td>\n",
       "      <td>86.0</td>\n",
       "      <td>96.0</td>\n",
       "      <td>0.0</td>\n",
       "      <td>40.0</td>\n",
       "      <td>16.9</td>\n",
       "    </tr>\n",
       "    <tr>\n",
       "      <th>3</th>\n",
       "      <td>2193</td>\n",
       "      <td>4</td>\n",
       "      <td>1022.9</td>\n",
       "      <td>20.6</td>\n",
       "      <td>17.3</td>\n",
       "      <td>15.2</td>\n",
       "      <td>9.5</td>\n",
       "      <td>75.0</td>\n",
       "      <td>45.0</td>\n",
       "      <td>7.1</td>\n",
       "      <td>20.0</td>\n",
       "      <td>50.6</td>\n",
       "    </tr>\n",
       "    <tr>\n",
       "      <th>4</th>\n",
       "      <td>2194</td>\n",
       "      <td>5</td>\n",
       "      <td>1022.2</td>\n",
       "      <td>16.1</td>\n",
       "      <td>13.8</td>\n",
       "      <td>6.4</td>\n",
       "      <td>4.3</td>\n",
       "      <td>68.0</td>\n",
       "      <td>49.0</td>\n",
       "      <td>9.2</td>\n",
       "      <td>20.0</td>\n",
       "      <td>19.4</td>\n",
       "    </tr>\n",
       "  </tbody>\n",
       "</table>\n",
       "</div>"
      ],
      "text/plain": [
       "     id  day  pressure  maxtemp  temparature  mintemp  dewpoint  humidity  \\\n",
       "0  2190    1    1019.5     17.5         15.8     12.7      14.9      96.0   \n",
       "1  2191    2    1016.5     17.5         16.5     15.8      15.1      97.0   \n",
       "2  2192    3    1023.9     11.2         10.4      9.4       8.9      86.0   \n",
       "3  2193    4    1022.9     20.6         17.3     15.2       9.5      75.0   \n",
       "4  2194    5    1022.2     16.1         13.8      6.4       4.3      68.0   \n",
       "\n",
       "   cloud  sunshine  winddirection  windspeed  \n",
       "0   99.0       0.0           50.0       24.3  \n",
       "1   99.0       0.0           50.0       35.3  \n",
       "2   96.0       0.0           40.0       16.9  \n",
       "3   45.0       7.1           20.0       50.6  \n",
       "4   49.0       9.2           20.0       19.4  "
      ]
     },
     "execution_count": 6,
     "metadata": {},
     "output_type": "execute_result"
    }
   ],
   "source": [
    "test_df.head()"
   ]
  },
  {
   "cell_type": "code",
   "execution_count": 7,
   "metadata": {
    "execution": {
     "iopub.execute_input": "2025-03-28T08:18:12.188418Z",
     "iopub.status.busy": "2025-03-28T08:18:12.187979Z",
     "iopub.status.idle": "2025-03-28T08:18:12.207306Z",
     "shell.execute_reply": "2025-03-28T08:18:12.205995Z",
     "shell.execute_reply.started": "2025-03-28T08:18:12.188376Z"
    }
   },
   "outputs": [
    {
     "data": {
      "text/plain": [
       "id               0\n",
       "day              0\n",
       "pressure         0\n",
       "maxtemp          0\n",
       "temparature      0\n",
       "mintemp          0\n",
       "dewpoint         0\n",
       "humidity         0\n",
       "cloud            0\n",
       "sunshine         0\n",
       "winddirection    1\n",
       "windspeed        0\n",
       "dtype: int64"
      ]
     },
     "execution_count": 7,
     "metadata": {},
     "output_type": "execute_result"
    }
   ],
   "source": [
    "test_df.isna().sum()"
   ]
  },
  {
   "cell_type": "markdown",
   "metadata": {},
   "source": [
    "### Let's impute the missing value with the mean of that column"
   ]
  },
  {
   "cell_type": "code",
   "execution_count": 8,
   "metadata": {
    "execution": {
     "iopub.execute_input": "2025-03-28T08:18:12.211513Z",
     "iopub.status.busy": "2025-03-28T08:18:12.211169Z",
     "iopub.status.idle": "2025-03-28T08:18:12.231331Z",
     "shell.execute_reply": "2025-03-28T08:18:12.230118Z",
     "shell.execute_reply.started": "2025-03-28T08:18:12.211483Z"
    }
   },
   "outputs": [],
   "source": [
    "test_df['winddirection']=test_df['winddirection'].fillna(test_df['winddirection'].mean())"
   ]
  },
  {
   "cell_type": "code",
   "execution_count": 9,
   "metadata": {
    "execution": {
     "iopub.execute_input": "2025-03-28T08:18:12.233299Z",
     "iopub.status.busy": "2025-03-28T08:18:12.232920Z",
     "iopub.status.idle": "2025-03-28T08:18:12.255773Z",
     "shell.execute_reply": "2025-03-28T08:18:12.254627Z",
     "shell.execute_reply.started": "2025-03-28T08:18:12.233267Z"
    }
   },
   "outputs": [
    {
     "data": {
      "text/plain": [
       "id               0\n",
       "day              0\n",
       "pressure         0\n",
       "maxtemp          0\n",
       "temparature      0\n",
       "mintemp          0\n",
       "dewpoint         0\n",
       "humidity         0\n",
       "cloud            0\n",
       "sunshine         0\n",
       "winddirection    0\n",
       "windspeed        0\n",
       "dtype: int64"
      ]
     },
     "execution_count": 9,
     "metadata": {},
     "output_type": "execute_result"
    }
   ],
   "source": [
    "test_df.isna().sum()"
   ]
  },
  {
   "cell_type": "markdown",
   "metadata": {},
   "source": [
    "### Great! No missing values in the testing dataset"
   ]
  },
  {
   "cell_type": "code",
   "execution_count": 10,
   "metadata": {
    "execution": {
     "iopub.execute_input": "2025-03-28T08:18:12.257264Z",
     "iopub.status.busy": "2025-03-28T08:18:12.256907Z",
     "iopub.status.idle": "2025-03-28T08:18:12.272223Z",
     "shell.execute_reply": "2025-03-28T08:18:12.270610Z",
     "shell.execute_reply.started": "2025-03-28T08:18:12.257233Z"
    }
   },
   "outputs": [],
   "source": [
    "test_ids=test_df['id']"
   ]
  },
  {
   "cell_type": "markdown",
   "metadata": {},
   "source": [
    "### Let's start working on training data now"
   ]
  },
  {
   "cell_type": "code",
   "execution_count": 11,
   "metadata": {
    "execution": {
     "iopub.execute_input": "2025-03-28T08:18:12.274007Z",
     "iopub.status.busy": "2025-03-28T08:18:12.273554Z",
     "iopub.status.idle": "2025-03-28T08:18:12.302851Z",
     "shell.execute_reply": "2025-03-28T08:18:12.301528Z",
     "shell.execute_reply.started": "2025-03-28T08:18:12.273968Z"
    }
   },
   "outputs": [
    {
     "name": "stdout",
     "output_type": "stream",
     "text": [
      "<class 'pandas.core.frame.DataFrame'>\n",
      "RangeIndex: 2190 entries, 0 to 2189\n",
      "Data columns (total 13 columns):\n",
      " #   Column         Non-Null Count  Dtype  \n",
      "---  ------         --------------  -----  \n",
      " 0   id             2190 non-null   int64  \n",
      " 1   day            2190 non-null   int64  \n",
      " 2   pressure       2190 non-null   float64\n",
      " 3   maxtemp        2190 non-null   float64\n",
      " 4   temparature    2190 non-null   float64\n",
      " 5   mintemp        2190 non-null   float64\n",
      " 6   dewpoint       2190 non-null   float64\n",
      " 7   humidity       2190 non-null   float64\n",
      " 8   cloud          2190 non-null   float64\n",
      " 9   sunshine       2190 non-null   float64\n",
      " 10  winddirection  2190 non-null   float64\n",
      " 11  windspeed      2190 non-null   float64\n",
      " 12  rainfall       2190 non-null   int64  \n",
      "dtypes: float64(10), int64(3)\n",
      "memory usage: 222.6 KB\n"
     ]
    }
   ],
   "source": [
    "train_df.info()"
   ]
  },
  {
   "cell_type": "code",
   "execution_count": 12,
   "metadata": {
    "execution": {
     "iopub.execute_input": "2025-03-28T08:18:12.304506Z",
     "iopub.status.busy": "2025-03-28T08:18:12.304084Z",
     "iopub.status.idle": "2025-03-28T08:18:12.668930Z",
     "shell.execute_reply": "2025-03-28T08:18:12.667747Z",
     "shell.execute_reply.started": "2025-03-28T08:18:12.304474Z"
    }
   },
   "outputs": [
    {
     "data": {
      "image/png": "[encoded data removed]",
      "text/plain": [
       "<Figure size 640x480 with 2 Axes>"
      ]
     },
     "metadata": {},
     "output_type": "display_data"
    }
   ],
   "source": [
    "sns.heatmap(train_df.corr(), cmap=\"Blues\")\n",
    "plt.show()"
   ]
  },
  {
   "cell_type": "code",
   "execution_count": 13,
   "metadata": {
    "execution": {
     "iopub.execute_input": "2025-03-28T08:18:12.670398Z",
     "iopub.status.busy": "2025-03-28T08:18:12.670085Z",
     "iopub.status.idle": "2025-03-28T08:18:12.677915Z",
     "shell.execute_reply": "2025-03-28T08:18:12.676746Z",
     "shell.execute_reply.started": "2025-03-28T08:18:12.670360Z"
    }
   },
   "outputs": [
    {
     "name": "stdout",
     "output_type": "stream",
     "text": [
      "['pressure', 'maxtemp', 'temparature', 'mintemp', 'dewpoint', 'humidity', 'cloud', 'sunshine', 'winddirection', 'windspeed']\n",
      "10\n"
     ]
    }
   ],
   "source": [
    "features=[]\n",
    "for i in train_df.columns:\n",
    "    if(i==\"id\" or i==\"rainfall\" or i==\"day\"):\n",
    "        continue\n",
    "    else:\n",
    "        features.append(i)\n",
    "\n",
    "print(features)\n",
    "print(len(features))"
   ]
  },
  {
   "cell_type": "code",
   "execution_count": 14,
   "metadata": {
    "execution": {
     "iopub.execute_input": "2025-03-28T08:18:12.679313Z",
     "iopub.status.busy": "2025-03-28T08:18:12.678959Z",
     "iopub.status.idle": "2025-03-28T08:18:12.703169Z",
     "shell.execute_reply": "2025-03-28T08:18:12.701991Z",
     "shell.execute_reply.started": "2025-03-28T08:18:12.679282Z"
    }
   },
   "outputs": [],
   "source": [
    "train_df.drop(columns=['id', 'day'], inplace=True)\n",
    "test_df.drop(columns=['id', 'day'], inplace=True)"
   ]
  },
  {
   "cell_type": "code",
   "execution_count": 15,
   "metadata": {
    "execution": {
     "iopub.execute_input": "2025-03-28T08:18:12.704685Z",
     "iopub.status.busy": "2025-03-28T08:18:12.704311Z",
     "iopub.status.idle": "2025-03-28T08:18:12.730114Z",
     "shell.execute_reply": "2025-03-28T08:18:12.728895Z",
     "shell.execute_reply.started": "2025-03-28T08:18:12.704650Z"
    }
   },
   "outputs": [],
   "source": [
    "X=train_df.drop(columns=['rainfall'])\n",
    "y=train_df['rainfall']"
   ]
  },
  {
   "cell_type": "code",
   "execution_count": 16,
   "metadata": {},
   "outputs": [
    {
     "data": {
      "text/html": [
       "<div>\n",
       "<style scoped>\n",
       "    .dataframe tbody tr th:only-of-type {\n",
       "        vertical-align: middle;\n",
       "    }\n",
       "\n",
       "    .dataframe tbody tr th {\n",
       "        vertical-align: top;\n",
       "    }\n",
       "\n",
       "    .dataframe thead th {\n",
       "        text-align: right;\n",
       "    }\n",
       "</style>\n",
       "<table border=\"1\" class=\"dataframe\">\n",
       "  <thead>\n",
       "    <tr style=\"text-align: right;\">\n",
       "      <th></th>\n",
       "      <th>pressure</th>\n",
       "      <th>maxtemp</th>\n",
       "      <th>temparature</th>\n",
       "      <th>mintemp</th>\n",
       "      <th>dewpoint</th>\n",
       "      <th>humidity</th>\n",
       "      <th>cloud</th>\n",
       "      <th>sunshine</th>\n",
       "      <th>winddirection</th>\n",
       "      <th>windspeed</th>\n",
       "    </tr>\n",
       "  </thead>\n",
       "  <tbody>\n",
       "    <tr>\n",
       "      <th>0</th>\n",
       "      <td>1017.4</td>\n",
       "      <td>21.2</td>\n",
       "      <td>20.6</td>\n",
       "      <td>19.9</td>\n",
       "      <td>19.4</td>\n",
       "      <td>87.0</td>\n",
       "      <td>88.0</td>\n",
       "      <td>1.1</td>\n",
       "      <td>60.0</td>\n",
       "      <td>17.2</td>\n",
       "    </tr>\n",
       "    <tr>\n",
       "      <th>1</th>\n",
       "      <td>1019.5</td>\n",
       "      <td>16.2</td>\n",
       "      <td>16.9</td>\n",
       "      <td>15.8</td>\n",
       "      <td>15.4</td>\n",
       "      <td>95.0</td>\n",
       "      <td>91.0</td>\n",
       "      <td>0.0</td>\n",
       "      <td>50.0</td>\n",
       "      <td>21.9</td>\n",
       "    </tr>\n",
       "    <tr>\n",
       "      <th>2</th>\n",
       "      <td>1024.1</td>\n",
       "      <td>19.4</td>\n",
       "      <td>16.1</td>\n",
       "      <td>14.6</td>\n",
       "      <td>9.3</td>\n",
       "      <td>75.0</td>\n",
       "      <td>47.0</td>\n",
       "      <td>8.3</td>\n",
       "      <td>70.0</td>\n",
       "      <td>18.1</td>\n",
       "    </tr>\n",
       "    <tr>\n",
       "      <th>3</th>\n",
       "      <td>1013.4</td>\n",
       "      <td>18.1</td>\n",
       "      <td>17.8</td>\n",
       "      <td>16.9</td>\n",
       "      <td>16.8</td>\n",
       "      <td>95.0</td>\n",
       "      <td>95.0</td>\n",
       "      <td>0.0</td>\n",
       "      <td>60.0</td>\n",
       "      <td>35.6</td>\n",
       "    </tr>\n",
       "    <tr>\n",
       "      <th>4</th>\n",
       "      <td>1021.8</td>\n",
       "      <td>21.3</td>\n",
       "      <td>18.4</td>\n",
       "      <td>15.2</td>\n",
       "      <td>9.6</td>\n",
       "      <td>52.0</td>\n",
       "      <td>45.0</td>\n",
       "      <td>3.6</td>\n",
       "      <td>40.0</td>\n",
       "      <td>24.8</td>\n",
       "    </tr>\n",
       "  </tbody>\n",
       "</table>\n",
       "</div>"
      ],
      "text/plain": [
       "   pressure  maxtemp  temparature  mintemp  dewpoint  humidity  cloud  \\\n",
       "0    1017.4     21.2         20.6     19.9      19.4      87.0   88.0   \n",
       "1    1019.5     16.2         16.9     15.8      15.4      95.0   91.0   \n",
       "2    1024.1     19.4         16.1     14.6       9.3      75.0   47.0   \n",
       "3    1013.4     18.1         17.8     16.9      16.8      95.0   95.0   \n",
       "4    1021.8     21.3         18.4     15.2       9.6      52.0   45.0   \n",
       "\n",
       "   sunshine  winddirection  windspeed  \n",
       "0       1.1           60.0       17.2  \n",
       "1       0.0           50.0       21.9  \n",
       "2       8.3           70.0       18.1  \n",
       "3       0.0           60.0       35.6  \n",
       "4       3.6           40.0       24.8  "
      ]
     },
     "execution_count": 16,
     "metadata": {},
     "output_type": "execute_result"
    }
   ],
   "source": [
    "X.head()"
   ]
  },
  {
   "cell_type": "code",
   "execution_count": 17,
   "metadata": {
    "execution": {
     "iopub.execute_input": "2025-03-28T08:18:57.807088Z",
     "iopub.status.busy": "2025-03-28T08:18:57.806737Z",
     "iopub.status.idle": "2025-03-28T08:18:57.816014Z",
     "shell.execute_reply": "2025-03-28T08:18:57.814858Z",
     "shell.execute_reply.started": "2025-03-28T08:18:57.807061Z"
    }
   },
   "outputs": [],
   "source": [
    "scaler=MinMaxScaler()\n",
    "\n",
    "X_scaled=scaler.fit_transform(X)"
   ]
  },
  {
   "cell_type": "code",
   "execution_count": 18,
   "metadata": {},
   "outputs": [],
   "source": [
    "X_scaled=pd.DataFrame(X_scaled, columns=X.columns)"
   ]
  },
  {
   "cell_type": "code",
   "execution_count": 19,
   "metadata": {},
   "outputs": [
    {
     "data": {
      "text/html": [
       "<div>\n",
       "<style scoped>\n",
       "    .dataframe tbody tr th:only-of-type {\n",
       "        vertical-align: middle;\n",
       "    }\n",
       "\n",
       "    .dataframe tbody tr th {\n",
       "        vertical-align: top;\n",
       "    }\n",
       "\n",
       "    .dataframe thead th {\n",
       "        text-align: right;\n",
       "    }\n",
       "</style>\n",
       "<table border=\"1\" class=\"dataframe\">\n",
       "  <thead>\n",
       "    <tr style=\"text-align: right;\">\n",
       "      <th></th>\n",
       "      <th>pressure</th>\n",
       "      <th>maxtemp</th>\n",
       "      <th>temparature</th>\n",
       "      <th>mintemp</th>\n",
       "      <th>dewpoint</th>\n",
       "      <th>humidity</th>\n",
       "      <th>cloud</th>\n",
       "      <th>sunshine</th>\n",
       "      <th>winddirection</th>\n",
       "      <th>windspeed</th>\n",
       "    </tr>\n",
       "  </thead>\n",
       "  <tbody>\n",
       "    <tr>\n",
       "      <th>0</th>\n",
       "      <td>0.516854</td>\n",
       "      <td>0.421875</td>\n",
       "      <td>0.547718</td>\n",
       "      <td>0.616279</td>\n",
       "      <td>0.729630</td>\n",
       "      <td>0.813559</td>\n",
       "      <td>0.877551</td>\n",
       "      <td>0.090909</td>\n",
       "      <td>0.172414</td>\n",
       "      <td>0.232305</td>\n",
       "    </tr>\n",
       "    <tr>\n",
       "      <th>1</th>\n",
       "      <td>0.575843</td>\n",
       "      <td>0.226562</td>\n",
       "      <td>0.394191</td>\n",
       "      <td>0.457364</td>\n",
       "      <td>0.581481</td>\n",
       "      <td>0.949153</td>\n",
       "      <td>0.908163</td>\n",
       "      <td>0.000000</td>\n",
       "      <td>0.137931</td>\n",
       "      <td>0.317604</td>\n",
       "    </tr>\n",
       "    <tr>\n",
       "      <th>2</th>\n",
       "      <td>0.705056</td>\n",
       "      <td>0.351562</td>\n",
       "      <td>0.360996</td>\n",
       "      <td>0.410853</td>\n",
       "      <td>0.355556</td>\n",
       "      <td>0.610169</td>\n",
       "      <td>0.459184</td>\n",
       "      <td>0.685950</td>\n",
       "      <td>0.206897</td>\n",
       "      <td>0.248639</td>\n",
       "    </tr>\n",
       "    <tr>\n",
       "      <th>3</th>\n",
       "      <td>0.404494</td>\n",
       "      <td>0.300781</td>\n",
       "      <td>0.431535</td>\n",
       "      <td>0.500000</td>\n",
       "      <td>0.633333</td>\n",
       "      <td>0.949153</td>\n",
       "      <td>0.948980</td>\n",
       "      <td>0.000000</td>\n",
       "      <td>0.172414</td>\n",
       "      <td>0.566243</td>\n",
       "    </tr>\n",
       "    <tr>\n",
       "      <th>4</th>\n",
       "      <td>0.640449</td>\n",
       "      <td>0.425781</td>\n",
       "      <td>0.456432</td>\n",
       "      <td>0.434109</td>\n",
       "      <td>0.366667</td>\n",
       "      <td>0.220339</td>\n",
       "      <td>0.438776</td>\n",
       "      <td>0.297521</td>\n",
       "      <td>0.103448</td>\n",
       "      <td>0.370236</td>\n",
       "    </tr>\n",
       "  </tbody>\n",
       "</table>\n",
       "</div>"
      ],
      "text/plain": [
       "   pressure   maxtemp  temparature   mintemp  dewpoint  humidity     cloud  \\\n",
       "0  0.516854  0.421875     0.547718  0.616279  0.729630  0.813559  0.877551   \n",
       "1  0.575843  0.226562     0.394191  0.457364  0.581481  0.949153  0.908163   \n",
       "2  0.705056  0.351562     0.360996  0.410853  0.355556  0.610169  0.459184   \n",
       "3  0.404494  0.300781     0.431535  0.500000  0.633333  0.949153  0.948980   \n",
       "4  0.640449  0.425781     0.456432  0.434109  0.366667  0.220339  0.438776   \n",
       "\n",
       "   sunshine  winddirection  windspeed  \n",
       "0  0.090909       0.172414   0.232305  \n",
       "1  0.000000       0.137931   0.317604  \n",
       "2  0.685950       0.206897   0.248639  \n",
       "3  0.000000       0.172414   0.566243  \n",
       "4  0.297521       0.103448   0.370236  "
      ]
     },
     "execution_count": 19,
     "metadata": {},
     "output_type": "execute_result"
    }
   ],
   "source": [
    "X_scaled.head()"
   ]
  },
  {
   "cell_type": "code",
   "execution_count": 20,
   "metadata": {
    "execution": {
     "iopub.execute_input": "2025-03-28T08:19:51.492057Z",
     "iopub.status.busy": "2025-03-28T08:19:51.491659Z",
     "iopub.status.idle": "2025-03-28T08:19:51.498913Z",
     "shell.execute_reply": "2025-03-28T08:19:51.497657Z",
     "shell.execute_reply.started": "2025-03-28T08:19:51.492028Z"
    }
   },
   "outputs": [],
   "source": [
    "test_df_scaled=scaler.transform(test_df)"
   ]
  },
  {
   "cell_type": "code",
   "execution_count": 21,
   "metadata": {
    "execution": {
     "iopub.execute_input": "2025-03-28T08:22:34.792446Z",
     "iopub.status.busy": "2025-03-28T08:22:34.792082Z",
     "iopub.status.idle": "2025-03-28T08:22:34.799482Z",
     "shell.execute_reply": "2025-03-28T08:22:34.798314Z",
     "shell.execute_reply.started": "2025-03-28T08:22:34.792407Z"
    }
   },
   "outputs": [],
   "source": [
    "X_train, X_test, y_train, y_test=train_test_split(X_scaled, y, test_size=0.2)"
   ]
  },
  {
   "cell_type": "code",
   "execution_count": 22,
   "metadata": {
    "execution": {
     "iopub.execute_input": "2025-03-28T08:22:36.180755Z",
     "iopub.status.busy": "2025-03-28T08:22:36.180371Z",
     "iopub.status.idle": "2025-03-28T08:22:36.187704Z",
     "shell.execute_reply": "2025-03-28T08:22:36.186532Z",
     "shell.execute_reply.started": "2025-03-28T08:22:36.180724Z"
    }
   },
   "outputs": [
    {
     "name": "stdout",
     "output_type": "stream",
     "text": [
      "X_train shape: (1752, 10)\n",
      "X_test shape: (438, 10)\n",
      "y_train shape: (1752,)\n",
      "y_test shape: (438,)\n"
     ]
    }
   ],
   "source": [
    "print(\"X_train shape:\", X_train.shape)\n",
    "print(\"X_test shape:\", X_test.shape)\n",
    "print(\"y_train shape:\", y_train.shape)\n",
    "print(\"y_test shape:\", y_test.shape)"
   ]
  },
  {
   "cell_type": "code",
   "execution_count": 23,
   "metadata": {
    "execution": {
     "iopub.execute_input": "2025-03-28T08:22:18.304566Z",
     "iopub.status.busy": "2025-03-28T08:22:18.304147Z",
     "iopub.status.idle": "2025-03-28T08:22:18.309219Z",
     "shell.execute_reply": "2025-03-28T08:22:18.307939Z",
     "shell.execute_reply.started": "2025-03-28T08:22:18.304536Z"
    }
   },
   "outputs": [],
   "source": [
    "log_model=LogisticRegression()"
   ]
  },
  {
   "cell_type": "code",
   "execution_count": 24,
   "metadata": {
    "execution": {
     "iopub.execute_input": "2025-03-28T08:22:42.566360Z",
     "iopub.status.busy": "2025-03-28T08:22:42.565996Z",
     "iopub.status.idle": "2025-03-28T08:22:42.617418Z",
     "shell.execute_reply": "2025-03-28T08:22:42.616390Z",
     "shell.execute_reply.started": "2025-03-28T08:22:42.566330Z"
    }
   },
   "outputs": [
    {
     "data": {
      "text/html": [
       "<style>#sk-container-id-1 {color: black;}#sk-container-id-1 pre{padding: 0;}#sk-container-id-1 div.sk-toggleable {background-color: white;}#sk-container-id-1 label.sk-toggleable__label {cursor: pointer;display: block;width: 100%;margin-bottom: 0;padding: 0.3em;box-sizing: border-box;text-align: center;}#sk-container-id-1 label.sk-toggleable__label-arrow:before {content: \"▸\";float: left;margin-right: 0.25em;color: #696969;}#sk-container-id-1 label.sk-toggleable__label-arrow:hover:before {color: black;}#sk-container-id-1 div.sk-estimator:hover label.sk-toggleable__label-arrow:before {color: black;}#sk-container-id-1 div.sk-toggleable__content {max-height: 0;max-width: 0;overflow: hidden;text-align: left;background-color: #f0f8ff;}#sk-container-id-1 div.sk-toggleable__content pre {margin: 0.2em;color: black;border-radius: 0.25em;background-color: #f0f8ff;}#sk-container-id-1 input.sk-toggleable__control:checked~div.sk-toggleable__content {max-height: 200px;max-width: 100%;overflow: auto;}#sk-container-id-1 input.sk-toggleable__control:checked~label.sk-toggleable__label-arrow:before {content: \"▾\";}#sk-container-id-1 div.sk-estimator input.sk-toggleable__control:checked~label.sk-toggleable__label {background-color: #d4ebff;}#sk-container-id-1 div.sk-label input.sk-toggleable__control:checked~label.sk-toggleable__label {background-color: #d4ebff;}#sk-container-id-1 input.sk-hidden--visually {border: 0;clip: rect(1px 1px 1px 1px);clip: rect(1px, 1px, 1px, 1px);height: 1px;margin: -1px;overflow: hidden;padding: 0;position: absolute;width: 1px;}#sk-container-id-1 div.sk-estimator {font-family: monospace;background-color: #f0f8ff;border: 1px dotted black;border-radius: 0.25em;box-sizing: border-box;margin-bottom: 0.5em;}#sk-container-id-1 div.sk-estimator:hover {background-color: #d4ebff;}#sk-container-id-1 div.sk-parallel-item::after {content: \"\";width: 100%;border-bottom: 1px solid gray;flex-grow: 1;}#sk-container-id-1 div.sk-label:hover label.sk-toggleable__label {background-color: #d4ebff;}#sk-container-id-1 div.sk-serial::before {content: \"\";position: absolute;border-left: 1px solid gray;box-sizing: border-box;top: 0;bottom: 0;left: 50%;z-index: 0;}#sk-container-id-1 div.sk-serial {display: flex;flex-direction: column;align-items: center;background-color: white;padding-right: 0.2em;padding-left: 0.2em;position: relative;}#sk-container-id-1 div.sk-item {position: relative;z-index: 1;}#sk-container-id-1 div.sk-parallel {display: flex;align-items: stretch;justify-content: center;background-color: white;position: relative;}#sk-container-id-1 div.sk-item::before, #sk-container-id-1 div.sk-parallel-item::before {content: \"\";position: absolute;border-left: 1px solid gray;box-sizing: border-box;top: 0;bottom: 0;left: 50%;z-index: -1;}#sk-container-id-1 div.sk-parallel-item {display: flex;flex-direction: column;z-index: 1;position: relative;background-color: white;}#sk-container-id-1 div.sk-parallel-item:first-child::after {align-self: flex-end;width: 50%;}#sk-container-id-1 div.sk-parallel-item:last-child::after {align-self: flex-start;width: 50%;}#sk-container-id-1 div.sk-parallel-item:only-child::after {width: 0;}#sk-container-id-1 div.sk-dashed-wrapped {border: 1px dashed gray;margin: 0 0.4em 0.5em 0.4em;box-sizing: border-box;padding-bottom: 0.4em;background-color: white;}#sk-container-id-1 div.sk-label label {font-family: monospace;font-weight: bold;display: inline-block;line-height: 1.2em;}#sk-container-id-1 div.sk-label-container {text-align: center;}#sk-container-id-1 div.sk-container {/* jupyter's `normalize.less` sets `[hidden] { display: none; }` but bootstrap.min.css set `[hidden] { display: none !important; }` so we also need the `!important` here to be able to override the default hidden behavior on the sphinx rendered scikit-learn.org. See: https://github.com/scikit-learn/scikit-learn/issues/21755 */display: inline-block !important;position: relative;}#sk-container-id-1 div.sk-text-repr-fallback {display: none;}</style><div id=\"sk-container-id-1\" class=\"sk-top-container\"><div class=\"sk-text-repr-fallback\"><pre>LogisticRegression()</pre><b>In a Jupyter environment, please rerun this cell to show the HTML representation or trust the notebook. <br />On GitHub, the HTML representation is unable to render, please try loading this page with nbviewer.org.</b></div><div class=\"sk-container\" hidden><div class=\"sk-item\"><div class=\"sk-estimator sk-toggleable\"><input class=\"sk-toggleable__control sk-hidden--visually\" id=\"sk-estimator-id-1\" type=\"checkbox\" checked><label for=\"sk-estimator-id-1\" class=\"sk-toggleable__label sk-toggleable__label-arrow\">LogisticRegression</label><div class=\"sk-toggleable__content\"><pre>LogisticRegression()</pre></div></div></div></div></div>"
      ],
      "text/plain": [
       "LogisticRegression()"
      ]
     },
     "execution_count": 24,
     "metadata": {},
     "output_type": "execute_result"
    }
   ],
   "source": [
    "log_model.fit(X_train, y_train)"
   ]
  },
  {
   "cell_type": "code",
   "execution_count": 25,
   "metadata": {
    "execution": {
     "iopub.execute_input": "2025-03-28T08:23:02.419121Z",
     "iopub.status.busy": "2025-03-28T08:23:02.418708Z",
     "iopub.status.idle": "2025-03-28T08:23:02.424562Z",
     "shell.execute_reply": "2025-03-28T08:23:02.423313Z",
     "shell.execute_reply.started": "2025-03-28T08:23:02.419086Z"
    }
   },
   "outputs": [],
   "source": [
    "log_model_pred=log_model.predict(X_test)"
   ]
  },
  {
   "cell_type": "code",
   "execution_count": 26,
   "metadata": {
    "execution": {
     "iopub.execute_input": "2025-03-28T08:23:16.462419Z",
     "iopub.status.busy": "2025-03-28T08:23:16.462019Z",
     "iopub.status.idle": "2025-03-28T08:23:16.479836Z",
     "shell.execute_reply": "2025-03-28T08:23:16.478323Z",
     "shell.execute_reply.started": "2025-03-28T08:23:16.462389Z"
    }
   },
   "outputs": [
    {
     "name": "stdout",
     "output_type": "stream",
     "text": [
      "              precision    recall  f1-score   support\n",
      "\n",
      "           0       0.76      0.59      0.66       111\n",
      "           1       0.87      0.94      0.90       327\n",
      "\n",
      "    accuracy                           0.85       438\n",
      "   macro avg       0.82      0.76      0.78       438\n",
      "weighted avg       0.84      0.85      0.84       438\n",
      "\n"
     ]
    }
   ],
   "source": [
    "print(classification_report(y_test, log_model_pred))"
   ]
  },
  {
   "cell_type": "code",
   "execution_count": 27,
   "metadata": {
    "execution": {
     "iopub.execute_input": "2025-03-28T08:24:46.414409Z",
     "iopub.status.busy": "2025-03-28T08:24:46.414025Z",
     "iopub.status.idle": "2025-03-28T08:24:46.421597Z",
     "shell.execute_reply": "2025-03-28T08:24:46.420130Z",
     "shell.execute_reply.started": "2025-03-28T08:24:46.414382Z"
    }
   },
   "outputs": [],
   "source": [
    "prediction1=log_model.predict(test_df_scaled)"
   ]
  },
  {
   "cell_type": "code",
   "execution_count": 28,
   "metadata": {
    "execution": {
     "iopub.execute_input": "2025-03-28T08:26:30.571972Z",
     "iopub.status.busy": "2025-03-28T08:26:30.571539Z",
     "iopub.status.idle": "2025-03-28T08:26:30.588186Z",
     "shell.execute_reply": "2025-03-28T08:26:30.587009Z",
     "shell.execute_reply.started": "2025-03-28T08:26:30.571935Z"
    }
   },
   "outputs": [
    {
     "name": "stdout",
     "output_type": "stream",
     "text": [
      "submission1 file created\n"
     ]
    }
   ],
   "source": [
    "submission1=pd.DataFrame({\"id\": test_ids, \"rainfall\": prediction1})\n",
    "submission1.to_csv(\"submission1.csv\", index=False)\n",
    "print(\"submission1 file created\")"
   ]
  },
  {
   "cell_type": "code",
   "execution_count": 29,
   "metadata": {},
   "outputs": [
    {
     "data": {
      "text/html": [
       "<style>#sk-container-id-2 {color: black;}#sk-container-id-2 pre{padding: 0;}#sk-container-id-2 div.sk-toggleable {background-color: white;}#sk-container-id-2 label.sk-toggleable__label {cursor: pointer;display: block;width: 100%;margin-bottom: 0;padding: 0.3em;box-sizing: border-box;text-align: center;}#sk-container-id-2 label.sk-toggleable__label-arrow:before {content: \"▸\";float: left;margin-right: 0.25em;color: #696969;}#sk-container-id-2 label.sk-toggleable__label-arrow:hover:before {color: black;}#sk-container-id-2 div.sk-estimator:hover label.sk-toggleable__label-arrow:before {color: black;}#sk-container-id-2 div.sk-toggleable__content {max-height: 0;max-width: 0;overflow: hidden;text-align: left;background-color: #f0f8ff;}#sk-container-id-2 div.sk-toggleable__content pre {margin: 0.2em;color: black;border-radius: 0.25em;background-color: #f0f8ff;}#sk-container-id-2 input.sk-toggleable__control:checked~div.sk-toggleable__content {max-height: 200px;max-width: 100%;overflow: auto;}#sk-container-id-2 input.sk-toggleable__control:checked~label.sk-toggleable__label-arrow:before {content: \"▾\";}#sk-container-id-2 div.sk-estimator input.sk-toggleable__control:checked~label.sk-toggleable__label {background-color: #d4ebff;}#sk-container-id-2 div.sk-label input.sk-toggleable__control:checked~label.sk-toggleable__label {background-color: #d4ebff;}#sk-container-id-2 input.sk-hidden--visually {border: 0;clip: rect(1px 1px 1px 1px);clip: rect(1px, 1px, 1px, 1px);height: 1px;margin: -1px;overflow: hidden;padding: 0;position: absolute;width: 1px;}#sk-container-id-2 div.sk-estimator {font-family: monospace;background-color: #f0f8ff;border: 1px dotted black;border-radius: 0.25em;box-sizing: border-box;margin-bottom: 0.5em;}#sk-container-id-2 div.sk-estimator:hover {background-color: #d4ebff;}#sk-container-id-2 div.sk-parallel-item::after {content: \"\";width: 100%;border-bottom: 1px solid gray;flex-grow: 1;}#sk-container-id-2 div.sk-label:hover label.sk-toggleable__label {background-color: #d4ebff;}#sk-container-id-2 div.sk-serial::before {content: \"\";position: absolute;border-left: 1px solid gray;box-sizing: border-box;top: 0;bottom: 0;left: 50%;z-index: 0;}#sk-container-id-2 div.sk-serial {display: flex;flex-direction: column;align-items: center;background-color: white;padding-right: 0.2em;padding-left: 0.2em;position: relative;}#sk-container-id-2 div.sk-item {position: relative;z-index: 1;}#sk-container-id-2 div.sk-parallel {display: flex;align-items: stretch;justify-content: center;background-color: white;position: relative;}#sk-container-id-2 div.sk-item::before, #sk-container-id-2 div.sk-parallel-item::before {content: \"\";position: absolute;border-left: 1px solid gray;box-sizing: border-box;top: 0;bottom: 0;left: 50%;z-index: -1;}#sk-container-id-2 div.sk-parallel-item {display: flex;flex-direction: column;z-index: 1;position: relative;background-color: white;}#sk-container-id-2 div.sk-parallel-item:first-child::after {align-self: flex-end;width: 50%;}#sk-container-id-2 div.sk-parallel-item:last-child::after {align-self: flex-start;width: 50%;}#sk-container-id-2 div.sk-parallel-item:only-child::after {width: 0;}#sk-container-id-2 div.sk-dashed-wrapped {border: 1px dashed gray;margin: 0 0.4em 0.5em 0.4em;box-sizing: border-box;padding-bottom: 0.4em;background-color: white;}#sk-container-id-2 div.sk-label label {font-family: monospace;font-weight: bold;display: inline-block;line-height: 1.2em;}#sk-container-id-2 div.sk-label-container {text-align: center;}#sk-container-id-2 div.sk-container {/* jupyter's `normalize.less` sets `[hidden] { display: none; }` but bootstrap.min.css set `[hidden] { display: none !important; }` so we also need the `!important` here to be able to override the default hidden behavior on the sphinx rendered scikit-learn.org. See: https://github.com/scikit-learn/scikit-learn/issues/21755 */display: inline-block !important;position: relative;}#sk-container-id-2 div.sk-text-repr-fallback {display: none;}</style><div id=\"sk-container-id-2\" class=\"sk-top-container\"><div class=\"sk-text-repr-fallback\"><pre>RandomForestClassifier()</pre><b>In a Jupyter environment, please rerun this cell to show the HTML representation or trust the notebook. <br />On GitHub, the HTML representation is unable to render, please try loading this page with nbviewer.org.</b></div><div class=\"sk-container\" hidden><div class=\"sk-item\"><div class=\"sk-estimator sk-toggleable\"><input class=\"sk-toggleable__control sk-hidden--visually\" id=\"sk-estimator-id-2\" type=\"checkbox\" checked><label for=\"sk-estimator-id-2\" class=\"sk-toggleable__label sk-toggleable__label-arrow\">RandomForestClassifier</label><div class=\"sk-toggleable__content\"><pre>RandomForestClassifier()</pre></div></div></div></div></div>"
      ],
      "text/plain": [
       "RandomForestClassifier()"
      ]
     },
     "execution_count": 29,
     "metadata": {},
     "output_type": "execute_result"
    }
   ],
   "source": [
    "rf_model=RandomForestClassifier()\n",
    "\n",
    "rf_model.fit(X_train, y_train)"
   ]
  },
  {
   "cell_type": "code",
   "execution_count": 30,
   "metadata": {},
   "outputs": [],
   "source": [
    "rf_model_pred=rf_model.predict(X_test)"
   ]
  },
  {
   "cell_type": "code",
   "execution_count": 31,
   "metadata": {},
   "outputs": [
    {
     "name": "stdout",
     "output_type": "stream",
     "text": [
      "              precision    recall  f1-score   support\n",
      "\n",
      "           0       0.76      0.64      0.69       111\n",
      "           1       0.88      0.93      0.91       327\n",
      "\n",
      "    accuracy                           0.86       438\n",
      "   macro avg       0.82      0.78      0.80       438\n",
      "weighted avg       0.85      0.86      0.85       438\n",
      "\n"
     ]
    }
   ],
   "source": [
    "print(classification_report(y_test, rf_model_pred))"
   ]
  },
  {
   "cell_type": "code",
   "execution_count": 32,
   "metadata": {},
   "outputs": [],
   "source": [
    "prediction2=rf_model.predict(test_df_scaled)"
   ]
  },
  {
   "cell_type": "code",
   "execution_count": 33,
   "metadata": {},
   "outputs": [
    {
     "name": "stdout",
     "output_type": "stream",
     "text": [
      "submission2 file created\n"
     ]
    }
   ],
   "source": [
    "submission2=pd.DataFrame({\"id\": test_ids, \"rainfall\": prediction2})\n",
    "submission2.to_csv(\"submission2.csv\", index=False)\n",
    "print(\"submission2 file created\")"
   ]
  },
  {
   "cell_type": "code",
   "execution_count": 34,
   "metadata": {},
   "outputs": [],
   "source": [
    "xgb_model = xgb.XGBClassifier(\n",
    "    objective='binary:logistic',  # For binary classification\n",
    "    eval_metric='logloss',        # Logarithmic loss function for evaluation\n",
    "    use_label_encoder=False       # Disable label encoder warning\n",
    ")"
   ]
  },
  {
   "cell_type": "code",
   "execution_count": 35,
   "metadata": {},
   "outputs": [
    {
     "data": {
      "text/html": [
       "<style>#sk-container-id-3 {color: black;}#sk-container-id-3 pre{padding: 0;}#sk-container-id-3 div.sk-toggleable {background-color: white;}#sk-container-id-3 label.sk-toggleable__label {cursor: pointer;display: block;width: 100%;margin-bottom: 0;padding: 0.3em;box-sizing: border-box;text-align: center;}#sk-container-id-3 label.sk-toggleable__label-arrow:before {content: \"▸\";float: left;margin-right: 0.25em;color: #696969;}#sk-container-id-3 label.sk-toggleable__label-arrow:hover:before {color: black;}#sk-container-id-3 div.sk-estimator:hover label.sk-toggleable__label-arrow:before {color: black;}#sk-container-id-3 div.sk-toggleable__content {max-height: 0;max-width: 0;overflow: hidden;text-align: left;background-color: #f0f8ff;}#sk-container-id-3 div.sk-toggleable__content pre {margin: 0.2em;color: black;border-radius: 0.25em;background-color: #f0f8ff;}#sk-container-id-3 input.sk-toggleable__control:checked~div.sk-toggleable__content {max-height: 200px;max-width: 100%;overflow: auto;}#sk-container-id-3 input.sk-toggleable__control:checked~label.sk-toggleable__label-arrow:before {content: \"▾\";}#sk-container-id-3 div.sk-estimator input.sk-toggleable__control:checked~label.sk-toggleable__label {background-color: #d4ebff;}#sk-container-id-3 div.sk-label input.sk-toggleable__control:checked~label.sk-toggleable__label {background-color: #d4ebff;}#sk-container-id-3 input.sk-hidden--visually {border: 0;clip: rect(1px 1px 1px 1px);clip: rect(1px, 1px, 1px, 1px);height: 1px;margin: -1px;overflow: hidden;padding: 0;position: absolute;width: 1px;}#sk-container-id-3 div.sk-estimator {font-family: monospace;background-color: #f0f8ff;border: 1px dotted black;border-radius: 0.25em;box-sizing: border-box;margin-bottom: 0.5em;}#sk-container-id-3 div.sk-estimator:hover {background-color: #d4ebff;}#sk-container-id-3 div.sk-parallel-item::after {content: \"\";width: 100%;border-bottom: 1px solid gray;flex-grow: 1;}#sk-container-id-3 div.sk-label:hover label.sk-toggleable__label {background-color: #d4ebff;}#sk-container-id-3 div.sk-serial::before {content: \"\";position: absolute;border-left: 1px solid gray;box-sizing: border-box;top: 0;bottom: 0;left: 50%;z-index: 0;}#sk-container-id-3 div.sk-serial {display: flex;flex-direction: column;align-items: center;background-color: white;padding-right: 0.2em;padding-left: 0.2em;position: relative;}#sk-container-id-3 div.sk-item {position: relative;z-index: 1;}#sk-container-id-3 div.sk-parallel {display: flex;align-items: stretch;justify-content: center;background-color: white;position: relative;}#sk-container-id-3 div.sk-item::before, #sk-container-id-3 div.sk-parallel-item::before {content: \"\";position: absolute;border-left: 1px solid gray;box-sizing: border-box;top: 0;bottom: 0;left: 50%;z-index: -1;}#sk-container-id-3 div.sk-parallel-item {display: flex;flex-direction: column;z-index: 1;position: relative;background-color: white;}#sk-container-id-3 div.sk-parallel-item:first-child::after {align-self: flex-end;width: 50%;}#sk-container-id-3 div.sk-parallel-item:last-child::after {align-self: flex-start;width: 50%;}#sk-container-id-3 div.sk-parallel-item:only-child::after {width: 0;}#sk-container-id-3 div.sk-dashed-wrapped {border: 1px dashed gray;margin: 0 0.4em 0.5em 0.4em;box-sizing: border-box;padding-bottom: 0.4em;background-color: white;}#sk-container-id-3 div.sk-label label {font-family: monospace;font-weight: bold;display: inline-block;line-height: 1.2em;}#sk-container-id-3 div.sk-label-container {text-align: center;}#sk-container-id-3 div.sk-container {/* jupyter's `normalize.less` sets `[hidden] { display: none; }` but bootstrap.min.css set `[hidden] { display: none !important; }` so we also need the `!important` here to be able to override the default hidden behavior on the sphinx rendered scikit-learn.org. See: https://github.com/scikit-learn/scikit-learn/issues/21755 */display: inline-block !important;position: relative;}#sk-container-id-3 div.sk-text-repr-fallback {display: none;}</style><div id=\"sk-container-id-3\" class=\"sk-top-container\"><div class=\"sk-text-repr-fallback\"><pre>XGBClassifier(base_score=None, booster=None, callbacks=None,\n",
       "              colsample_bylevel=None, colsample_bynode=None,\n",
       "              colsample_bytree=None, device=None, early_stopping_rounds=None,\n",
       "              enable_categorical=False, eval_metric=&#x27;logloss&#x27;,\n",
       "              feature_types=None, gamma=None, grow_policy=None,\n",
       "              importance_type=None, interaction_constraints=None,\n",
       "              learning_rate=None, max_bin=None, max_cat_threshold=None,\n",
       "              max_cat_to_onehot=None, max_delta_step=None, max_depth=None,\n",
       "              max_leaves=None, min_child_weight=None, missing=nan,\n",
       "              monotone_constraints=None, multi_strategy=None, n_estimators=None,\n",
       "              n_jobs=None, num_parallel_tree=None, random_state=None, ...)</pre><b>In a Jupyter environment, please rerun this cell to show the HTML representation or trust the notebook. <br />On GitHub, the HTML representation is unable to render, please try loading this page with nbviewer.org.</b></div><div class=\"sk-container\" hidden><div class=\"sk-item\"><div class=\"sk-estimator sk-toggleable\"><input class=\"sk-toggleable__control sk-hidden--visually\" id=\"sk-estimator-id-3\" type=\"checkbox\" checked><label for=\"sk-estimator-id-3\" class=\"sk-toggleable__label sk-toggleable__label-arrow\">XGBClassifier</label><div class=\"sk-toggleable__content\"><pre>XGBClassifier(base_score=None, booster=None, callbacks=None,\n",
       "              colsample_bylevel=None, colsample_bynode=None,\n",
       "              colsample_bytree=None, device=None, early_stopping_rounds=None,\n",
       "              enable_categorical=False, eval_metric=&#x27;logloss&#x27;,\n",
       "              feature_types=None, gamma=None, grow_policy=None,\n",
       "              importance_type=None, interaction_constraints=None,\n",
       "              learning_rate=None, max_bin=None, max_cat_threshold=None,\n",
       "              max_cat_to_onehot=None, max_delta_step=None, max_depth=None,\n",
       "              max_leaves=None, min_child_weight=None, missing=nan,\n",
       "              monotone_constraints=None, multi_strategy=None, n_estimators=None,\n",
       "              n_jobs=None, num_parallel_tree=None, random_state=None, ...)</pre></div></div></div></div></div>"
      ],
      "text/plain": [
       "XGBClassifier(base_score=None, booster=None, callbacks=None,\n",
       "              colsample_bylevel=None, colsample_bynode=None,\n",
       "              colsample_bytree=None, device=None, early_stopping_rounds=None,\n",
       "              enable_categorical=False, eval_metric='logloss',\n",
       "              feature_types=None, gamma=None, grow_policy=None,\n",
       "              importance_type=None, interaction_constraints=None,\n",
       "              learning_rate=None, max_bin=None, max_cat_threshold=None,\n",
       "              max_cat_to_onehot=None, max_delta_step=None, max_depth=None,\n",
       "              max_leaves=None, min_child_weight=None, missing=nan,\n",
       "              monotone_constraints=None, multi_strategy=None, n_estimators=None,\n",
       "              n_jobs=None, num_parallel_tree=None, random_state=None, ...)"
      ]
     },
     "execution_count": 35,
     "metadata": {},
     "output_type": "execute_result"
    }
   ],
   "source": [
    "xgb_model.fit(X_train, y_train)"
   ]
  },
  {
   "cell_type": "code",
   "execution_count": 36,
   "metadata": {},
   "outputs": [],
   "source": [
    "xgb_model_pred=xgb_model.predict(X_test)"
   ]
  },
  {
   "cell_type": "code",
   "execution_count": 37,
   "metadata": {},
   "outputs": [
    {
     "name": "stdout",
     "output_type": "stream",
     "text": [
      "              precision    recall  f1-score   support\n",
      "\n",
      "           0       0.70      0.62      0.66       111\n",
      "           1       0.88      0.91      0.89       327\n",
      "\n",
      "    accuracy                           0.84       438\n",
      "   macro avg       0.79      0.77      0.78       438\n",
      "weighted avg       0.83      0.84      0.83       438\n",
      "\n"
     ]
    }
   ],
   "source": [
    "print(classification_report(y_test, xgb_model_pred))"
   ]
  },
  {
   "cell_type": "code",
   "execution_count": 38,
   "metadata": {},
   "outputs": [],
   "source": [
    "prediction3=xgb_model.predict(test_df_scaled)"
   ]
  },
  {
   "cell_type": "code",
   "execution_count": 39,
   "metadata": {},
   "outputs": [
    {
     "name": "stdout",
     "output_type": "stream",
     "text": [
      "submission3 file created\n"
     ]
    }
   ],
   "source": [
    "submission3=pd.DataFrame({\"id\": test_ids, \"rainfall\": prediction3})\n",
    "submission3.to_csv(\"submission3.csv\", index=False)\n",
    "print(\"submission3 file created\")"
   ]
  },
  {
   "cell_type": "code",
   "execution_count": 42,
   "metadata": {},
   "outputs": [
    {
     "data": {
      "text/plain": [
       "(2190, 10)"
      ]
     },
     "execution_count": 42,
     "metadata": {},
     "output_type": "execute_result"
    }
   ],
   "source": [
    "X_scaled.shape"
   ]
  },
  {
   "cell_type": "markdown",
   "metadata": {},
   "source": [
    "### Let's build a Neural Network and find out how we doing in predicting the rainfall"
   ]
  },
  {
   "cell_type": "code",
   "execution_count": 44,
   "metadata": {},
   "outputs": [],
   "source": [
    "model = Sequential([\n",
    "    Dense(32, activation='relu', input_shape=(10,)),  # Input layer (10 features)\n",
    "    Dense(16, activation='relu'),  # Hidden layer\n",
    "    Dropout(0.2),  # Dropout for regularization\n",
    "    Dense(8, activation='relu'),  # Another hidden layer\n",
    "    Dense(1, activation='sigmoid')  # Output layer (binary classification)\n",
    "])"
   ]
  },
  {
   "cell_type": "code",
   "execution_count": 45,
   "metadata": {},
   "outputs": [
    {
     "name": "stderr",
     "output_type": "stream",
     "text": [
      "WARNING:absl:At this time, the v2.11+ optimizer `tf.keras.optimizers.Adam` runs slowly on M1/M2 Macs, please use the legacy Keras optimizer instead, located at `tf.keras.optimizers.legacy.Adam`.\n",
      "WARNING:absl:There is a known slowdown when using v2.11+ Keras optimizers on M1/M2 Macs. Falling back to the legacy Keras optimizer, i.e., `tf.keras.optimizers.legacy.Adam`.\n"
     ]
    },
    {
     "name": "stdout",
     "output_type": "stream",
     "text": [
      "Model: \"sequential\"\n",
      "_________________________________________________________________\n",
      " Layer (type)                Output Shape              Param #   \n",
      "=================================================================\n",
      " dense (Dense)               (None, 32)                352       \n",
      "                                                                 \n",
      " dense_1 (Dense)             (None, 16)                528       \n",
      "                                                                 \n",
      " dropout (Dropout)           (None, 16)                0         \n",
      "                                                                 \n",
      " dense_2 (Dense)             (None, 8)                 136       \n",
      "                                                                 \n",
      " dense_3 (Dense)             (None, 1)                 9         \n",
      "                                                                 \n",
      "=================================================================\n",
      "Total params: 1025 (4.00 KB)\n",
      "Trainable params: 1025 (4.00 KB)\n",
      "Non-trainable params: 0 (0.00 Byte)\n",
      "_________________________________________________________________\n"
     ]
    }
   ],
   "source": [
    "model.compile(optimizer=Adam(learning_rate=0.001),\n",
    "              loss='binary_crossentropy',\n",
    "              metrics=['accuracy'])\n",
    "\n",
    "# Model summary\n",
    "model.summary()"
   ]
  },
  {
   "cell_type": "code",
   "execution_count": 46,
   "metadata": {},
   "outputs": [
    {
     "name": "stdout",
     "output_type": "stream",
     "text": [
      "Epoch 1/50\n",
      "55/55 [==============================] - 0s 2ms/step - loss: 0.6290 - accuracy: 0.7197 - val_loss: 0.5483 - val_accuracy: 0.7466\n",
      "Epoch 2/50\n",
      "55/55 [==============================] - 0s 530us/step - loss: 0.5068 - accuracy: 0.7551 - val_loss: 0.4824 - val_accuracy: 0.7466\n",
      "Epoch 3/50\n",
      "55/55 [==============================] - 0s 466us/step - loss: 0.4447 - accuracy: 0.7825 - val_loss: 0.4181 - val_accuracy: 0.8288\n",
      "Epoch 4/50\n",
      "55/55 [==============================] - 0s 788us/step - loss: 0.3990 - accuracy: 0.8333 - val_loss: 0.3957 - val_accuracy: 0.8333\n",
      "Epoch 5/50\n",
      "55/55 [==============================] - 0s 602us/step - loss: 0.3785 - accuracy: 0.8470 - val_loss: 0.3856 - val_accuracy: 0.8425\n",
      "Epoch 6/50\n",
      "55/55 [==============================] - 0s 595us/step - loss: 0.3631 - accuracy: 0.8562 - val_loss: 0.3820 - val_accuracy: 0.8425\n",
      "Epoch 7/50\n",
      "55/55 [==============================] - 0s 556us/step - loss: 0.3555 - accuracy: 0.8619 - val_loss: 0.3818 - val_accuracy: 0.8516\n",
      "Epoch 8/50\n",
      "55/55 [==============================] - 0s 501us/step - loss: 0.3490 - accuracy: 0.8579 - val_loss: 0.3822 - val_accuracy: 0.8562\n",
      "Epoch 9/50\n",
      "55/55 [==============================] - 0s 506us/step - loss: 0.3509 - accuracy: 0.8653 - val_loss: 0.3815 - val_accuracy: 0.8562\n",
      "Epoch 10/50\n",
      "55/55 [==============================] - 0s 493us/step - loss: 0.3517 - accuracy: 0.8659 - val_loss: 0.3820 - val_accuracy: 0.8356\n",
      "Epoch 11/50\n",
      "55/55 [==============================] - 0s 499us/step - loss: 0.3537 - accuracy: 0.8642 - val_loss: 0.3823 - val_accuracy: 0.8539\n",
      "Epoch 12/50\n",
      "55/55 [==============================] - 0s 500us/step - loss: 0.3421 - accuracy: 0.8704 - val_loss: 0.3802 - val_accuracy: 0.8447\n",
      "Epoch 13/50\n",
      "55/55 [==============================] - 0s 509us/step - loss: 0.3483 - accuracy: 0.8659 - val_loss: 0.3806 - val_accuracy: 0.8356\n",
      "Epoch 14/50\n",
      "55/55 [==============================] - 0s 515us/step - loss: 0.3398 - accuracy: 0.8687 - val_loss: 0.3794 - val_accuracy: 0.8470\n",
      "Epoch 15/50\n",
      "55/55 [==============================] - 0s 801us/step - loss: 0.3399 - accuracy: 0.8659 - val_loss: 0.3802 - val_accuracy: 0.8447\n",
      "Epoch 16/50\n",
      "55/55 [==============================] - 0s 498us/step - loss: 0.3450 - accuracy: 0.8693 - val_loss: 0.3802 - val_accuracy: 0.8493\n",
      "Epoch 17/50\n",
      "55/55 [==============================] - 0s 603us/step - loss: 0.3420 - accuracy: 0.8744 - val_loss: 0.3832 - val_accuracy: 0.8493\n",
      "Epoch 18/50\n",
      "55/55 [==============================] - 0s 507us/step - loss: 0.3436 - accuracy: 0.8716 - val_loss: 0.3808 - val_accuracy: 0.8493\n",
      "Epoch 19/50\n",
      "55/55 [==============================] - 0s 508us/step - loss: 0.3416 - accuracy: 0.8699 - val_loss: 0.3800 - val_accuracy: 0.8447\n",
      "Epoch 20/50\n",
      "55/55 [==============================] - 0s 516us/step - loss: 0.3435 - accuracy: 0.8699 - val_loss: 0.3822 - val_accuracy: 0.8493\n",
      "Epoch 21/50\n",
      "55/55 [==============================] - 0s 516us/step - loss: 0.3394 - accuracy: 0.8704 - val_loss: 0.3830 - val_accuracy: 0.8470\n",
      "Epoch 22/50\n",
      "55/55 [==============================] - 0s 504us/step - loss: 0.3412 - accuracy: 0.8676 - val_loss: 0.3779 - val_accuracy: 0.8493\n",
      "Epoch 23/50\n",
      "55/55 [==============================] - 0s 537us/step - loss: 0.3414 - accuracy: 0.8693 - val_loss: 0.3805 - val_accuracy: 0.8425\n",
      "Epoch 24/50\n",
      "55/55 [==============================] - 0s 544us/step - loss: 0.3374 - accuracy: 0.8733 - val_loss: 0.3854 - val_accuracy: 0.8493\n",
      "Epoch 25/50\n",
      "55/55 [==============================] - 0s 521us/step - loss: 0.3370 - accuracy: 0.8750 - val_loss: 0.3792 - val_accuracy: 0.8516\n",
      "Epoch 26/50\n",
      "55/55 [==============================] - 0s 503us/step - loss: 0.3400 - accuracy: 0.8693 - val_loss: 0.3793 - val_accuracy: 0.8516\n",
      "Epoch 27/50\n",
      "55/55 [==============================] - 0s 503us/step - loss: 0.3280 - accuracy: 0.8693 - val_loss: 0.3892 - val_accuracy: 0.8402\n",
      "Epoch 28/50\n",
      "55/55 [==============================] - 0s 498us/step - loss: 0.3406 - accuracy: 0.8699 - val_loss: 0.3867 - val_accuracy: 0.8379\n",
      "Epoch 29/50\n",
      "55/55 [==============================] - 0s 473us/step - loss: 0.3353 - accuracy: 0.8739 - val_loss: 0.3793 - val_accuracy: 0.8516\n",
      "Epoch 30/50\n",
      "55/55 [==============================] - 0s 518us/step - loss: 0.3335 - accuracy: 0.8721 - val_loss: 0.3864 - val_accuracy: 0.8402\n",
      "Epoch 31/50\n",
      "55/55 [==============================] - 0s 551us/step - loss: 0.3364 - accuracy: 0.8716 - val_loss: 0.3799 - val_accuracy: 0.8470\n",
      "Epoch 32/50\n",
      "55/55 [==============================] - 0s 518us/step - loss: 0.3373 - accuracy: 0.8699 - val_loss: 0.3786 - val_accuracy: 0.8447\n",
      "Epoch 33/50\n",
      "55/55 [==============================] - 0s 509us/step - loss: 0.3383 - accuracy: 0.8716 - val_loss: 0.3778 - val_accuracy: 0.8516\n",
      "Epoch 34/50\n",
      "55/55 [==============================] - 0s 539us/step - loss: 0.3290 - accuracy: 0.8710 - val_loss: 0.3787 - val_accuracy: 0.8516\n",
      "Epoch 35/50\n",
      "55/55 [==============================] - 0s 500us/step - loss: 0.3319 - accuracy: 0.8750 - val_loss: 0.3798 - val_accuracy: 0.8470\n",
      "Epoch 36/50\n",
      "55/55 [==============================] - 0s 544us/step - loss: 0.3318 - accuracy: 0.8739 - val_loss: 0.3792 - val_accuracy: 0.8425\n",
      "Epoch 37/50\n",
      "55/55 [==============================] - 0s 496us/step - loss: 0.3293 - accuracy: 0.8767 - val_loss: 0.3791 - val_accuracy: 0.8402\n",
      "Epoch 38/50\n",
      "55/55 [==============================] - 0s 495us/step - loss: 0.3330 - accuracy: 0.8744 - val_loss: 0.3776 - val_accuracy: 0.8493\n",
      "Epoch 39/50\n",
      "55/55 [==============================] - 0s 493us/step - loss: 0.3289 - accuracy: 0.8727 - val_loss: 0.3802 - val_accuracy: 0.8425\n",
      "Epoch 40/50\n",
      "55/55 [==============================] - 0s 492us/step - loss: 0.3299 - accuracy: 0.8739 - val_loss: 0.3774 - val_accuracy: 0.8447\n",
      "Epoch 41/50\n",
      "55/55 [==============================] - 0s 471us/step - loss: 0.3274 - accuracy: 0.8739 - val_loss: 0.3780 - val_accuracy: 0.8447\n",
      "Epoch 42/50\n",
      "55/55 [==============================] - 0s 468us/step - loss: 0.3301 - accuracy: 0.8687 - val_loss: 0.3815 - val_accuracy: 0.8425\n",
      "Epoch 43/50\n",
      "55/55 [==============================] - 0s 520us/step - loss: 0.3250 - accuracy: 0.8716 - val_loss: 0.3788 - val_accuracy: 0.8425\n",
      "Epoch 44/50\n",
      "55/55 [==============================] - 0s 487us/step - loss: 0.3275 - accuracy: 0.8716 - val_loss: 0.3783 - val_accuracy: 0.8425\n",
      "Epoch 45/50\n",
      "55/55 [==============================] - 0s 483us/step - loss: 0.3252 - accuracy: 0.8761 - val_loss: 0.3785 - val_accuracy: 0.8516\n",
      "Epoch 46/50\n",
      "55/55 [==============================] - 0s 479us/step - loss: 0.3303 - accuracy: 0.8682 - val_loss: 0.3816 - val_accuracy: 0.8447\n",
      "Epoch 47/50\n",
      "55/55 [==============================] - 0s 467us/step - loss: 0.3281 - accuracy: 0.8739 - val_loss: 0.3783 - val_accuracy: 0.8425\n",
      "Epoch 48/50\n",
      "55/55 [==============================] - 0s 484us/step - loss: 0.3255 - accuracy: 0.8750 - val_loss: 0.3781 - val_accuracy: 0.8493\n",
      "Epoch 49/50\n",
      "55/55 [==============================] - 0s 496us/step - loss: 0.3281 - accuracy: 0.8733 - val_loss: 0.3799 - val_accuracy: 0.8516\n",
      "Epoch 50/50\n",
      "55/55 [==============================] - 0s 487us/step - loss: 0.3237 - accuracy: 0.8739 - val_loss: 0.3831 - val_accuracy: 0.8402\n"
     ]
    }
   ],
   "source": [
    "history = model.fit(X_train, y_train, \n",
    "                    epochs=50, \n",
    "                    batch_size=32, \n",
    "                    validation_data=(X_test, y_test), \n",
    "                    verbose=1)"
   ]
  },
  {
   "cell_type": "code",
   "execution_count": 47,
   "metadata": {},
   "outputs": [
    {
     "name": "stdout",
     "output_type": "stream",
     "text": [
      "14/14 [==============================] - 0s 515us/step - loss: 0.3831 - accuracy: 0.8402\n",
      "Test Accuracy: 0.84\n"
     ]
    }
   ],
   "source": [
    "loss, accuracy = model.evaluate(X_test, y_test)\n",
    "print(f\"Test Accuracy: {accuracy:.2f}\")"
   ]
  },
  {
   "cell_type": "code",
   "execution_count": 53,
   "metadata": {},
   "outputs": [
    {
     "data": {
      "image/png": "[encoded data removed]",
      "text/plain": [
       "<Figure size 640x480 with 1 Axes>"
      ]
     },
     "metadata": {},
     "output_type": "display_data"
    }
   ],
   "source": [
    "plt.plot(history.history['loss'])\n",
    "plt.show()"
   ]
  },
  {
   "cell_type": "code",
   "execution_count": 68,
   "metadata": {},
   "outputs": [
    {
     "name": "stdout",
     "output_type": "stream",
     "text": [
      "23/23 [==============================] - 0s 407us/step\n"
     ]
    }
   ],
   "source": [
    "prediction4=model.predict(test_df_scaled)"
   ]
  },
  {
   "cell_type": "code",
   "execution_count": 69,
   "metadata": {},
   "outputs": [],
   "source": [
    "prediction4=(prediction4>0.5).astype(int)"
   ]
  },
  {
   "cell_type": "code",
   "execution_count": 70,
   "metadata": {},
   "outputs": [],
   "source": [
    "prediction4=prediction4.ravel()"
   ]
  },
  {
   "cell_type": "code",
   "execution_count": 71,
   "metadata": {},
   "outputs": [
    {
     "name": "stdout",
     "output_type": "stream",
     "text": [
      "submission4 file created\n"
     ]
    }
   ],
   "source": [
    "submission4=pd.DataFrame({\"id\": test_ids, \"rainfall\": prediction4})\n",
    "submission4.to_csv(\"submission4.csv\", index=False)\n",
    "print(\"submission4 file created\")"
   ]
  },
  {
   "cell_type": "markdown",
   "metadata": {},
   "source": [
    "### Great! Got the Private Score: 0.76045 and Public: 0.75945"
   ]
  },
  {
   "cell_type": "code",
   "execution_count": null,
   "metadata": {},
   "outputs": [],
   "source": []
  }
 ],
 "metadata": {
  "kaggle": {
   "accelerator": "none",
   "dataSources": [
    {
     "databundleVersionId": 11251744,
     "sourceId": 91714,
     "sourceType": "competition"
    }
   ],
   "dockerImageVersionId": 30918,
   "isGpuEnabled": false,
   "isInternetEnabled": true,
   "language": "python",
   "sourceType": "notebook"
  },
  "kernelspec": {
   "display_name": "Python 3 (ipykernel)",
   "language": "python",
   "name": "python3"
  },
  "language_info": {
   "codemirror_mode": {
    "name": "ipython",
    "version": 3
   },
   "file_extension": ".py",
   "mimetype": "text/x-python",
   "name": "python",
   "nbconvert_exporter": "python",
   "pygments_lexer": "ipython3",
   "version": "3.11.4"
  }
 },
 "nbformat": 4,
 "nbformat_minor": 4
}
